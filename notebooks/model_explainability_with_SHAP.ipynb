{
 "cells": [
  {
   "cell_type": "markdown",
   "id": "ce77a3d0",
   "metadata": {},
   "source": [
    "# Task 3: Model Explainability with SHAP\n",
    "\n",
    "This notebook uses SHAP (Shapley Additive exPlanations) to interpret the best-performing fraud detection model.\n",
    "\n",
    "We generate and interpret SHAP plots (summary, bar, beeswarm, force, dependence, waterfall) to understand global and local feature importance.\n",
    "\n",
    "## Business Context\n",
    "Fraud detection models must be explainable to build trust with business stakeholders and to understand the key drivers of fraud. SHAP provides both global and local interpretability."
   ]
  },
  {
   "cell_type": "markdown",
   "id": "8d2d0657",
   "metadata": {},
   "source": [
    "## 1. Imports and Setup"
   ]
  },
  {
   "cell_type": "code",
   "execution_count": null,
   "id": "8faa2603",
   "metadata": {},
   "outputs": [],
   "source": [
    "# If not installed, uncomment the next line:\n",
    "# !pip install shap\n",
    "\n",
    "import pandas as pd\n",
    "import numpy as np\n",
    "import shap\n",
    "import matplotlib.pyplot as plt\n",
    "from sklearn.ensemble import RandomForestClassifier\n",
    "from sklearn.preprocessing import StandardScaler\n",
    "from sklearn.model_selection import train_test_split\n",
    "import warnings\n",
    "warnings.filterwarnings('ignore')\n",
    "shap.initjs()"
   ]
  },
  {
   "cell_type": "markdown",
   "id": "32de02b0",
   "metadata": {},
   "source": [
    "## 2. Load Data and Prepare Features\n",
    "\n",
    "We use the e-commerce fraud data and the same feature engineering as in previous tasks."
   ]
  },
  {
   "cell_type": "code",
   "execution_count": null,
   "id": "70b89d55",
   "metadata": {},
   "outputs": [],
   "source": [
    "fraud_df = pd.read_csv('../data/Fraud_Data.csv')\n",
    "fraud_df = fraud_df.dropna().drop_duplicates()\n",
    "fraud_df['signup_time'] = pd.to_datetime(fraud_df['signup_time'])\n",
    "fraud_df['purchase_time'] = pd.to_datetime(fraud_df['purchase_time'])\n",
    "fraud_df['age'] = fraud_df['age'].astype(int)\n",
    "fraud_df['hour_of_day'] = fraud_df['purchase_time'].dt.hour\n",
    "fraud_df['day_of_week'] = fraud_df['purchase_time'].dt.dayofweek\n",
    "fraud_df['time_since_signup'] = (fraud_df['purchase_time'] - fraud_df['signup_time']).dt.total_seconds() / 3600\n",
    "user_freq = fraud_df.groupby('user_id').size().rename('transaction_count')\n",
    "fraud_df = fraud_df.merge(user_freq, on='user_id')\n",
    "drop_cols = ['class', 'ip_address', 'signup_time', 'purchase_time', 'user_id', 'device_id']\n",
    "X = fraud_df.drop(drop_cols, axis=1)\n",
    "y = fraud_df['class']\n",
    "categorical = ['source', 'browser', 'sex']\n",
    "X = pd.get_dummies(X, columns=categorical, drop_first=True)\n",
    "scaler = StandardScaler()\n",
    "X_scaled = scaler.fit_transform(X)\n",
    "X_train, X_test, y_train, y_test = train_test_split(X_scaled, y, test_size=0.2, random_state=42, stratify=y)\n",
    "X_test_df = pd.DataFrame(X_test, columns=X.columns)"
   ]
  },
  {
   "cell_type": "markdown",
   "id": "0bef0b81",
   "metadata": {},
   "source": [
    "## 3. Train the Best Model (Random Forest)\n",
    "\n",
    "We retrain the Random Forest on the full training set for SHAP analysis."
   ]
  },
  {
   "cell_type": "code",
   "execution_count": null,
   "id": "ed1b6d13",
   "metadata": {},
   "outputs": [],
   "source": [
    "rf = RandomForestClassifier(n_estimators=100, class_weight='balanced', random_state=42)\n",
    "rf.fit(X_train, y_train)"
   ]
  },
  {
   "cell_type": "markdown",
   "id": "621688db",
   "metadata": {},
   "source": [
    "## 4. SHAP Analysis\n",
    "\n",
    "We use a sample of the test set for visualization speed."
   ]
  },
  {
   "cell_type": "code",
   "execution_count": null,
   "id": "f2d2b261",
   "metadata": {},
   "outputs": [],
   "source": [
    "X_sample = X_test_df.sample(100, random_state=42)\n",
    "explainer = shap.TreeExplainer(rf)\n",
    "shap_values = explainer.shap_values(X_sample)"
   ]
  },
  {
   "cell_type": "markdown",
   "id": "a3fd5be5",
   "metadata": {},
   "source": [
    "### SHAP Summary Plot (Bar)\n",
    "\n",
    "Shows global feature importance."
   ]
  },
  {
   "cell_type": "code",
   "execution_count": null,
   "id": "d345023a",
   "metadata": {},
   "outputs": [],
   "source": [
    "shap.summary_plot(shap_values[1], X_sample, plot_type=\"bar\")"
   ]
  },
  {
   "cell_type": "markdown",
   "id": "9740c4d9",
   "metadata": {},
   "source": [
    "### SHAP Summary Plot (Beeswarm)\n",
    "\n",
    "Shows both importance and direction of effect."
   ]
  },
  {
   "cell_type": "code",
   "execution_count": null,
   "id": "b3b83b44",
   "metadata": {},
   "outputs": [],
   "source": [
    "shap.summary_plot(shap_values[1], X_sample)"
   ]
  },
  {
   "cell_type": "markdown",
   "id": "f5b227d2",
   "metadata": {},
   "source": [
    "### SHAP Force Plot (Local Explanation)\n",
    "\n",
    "Explains a single prediction."
   ]
  },
  {
   "cell_type": "code",
   "execution_count": null,
   "id": "5cc80fb6",
   "metadata": {},
   "outputs": [],
   "source": [
    "shap.force_plot(explainer.expected_value[1], shap_values[1][0], X_sample.iloc[0])"
   ]
  },
  {
   "cell_type": "markdown",
   "id": "a2db533c",
   "metadata": {},
   "source": [
    "### SHAP Dependence Plot\n",
    "\n",
    "Shows how a single feature affects the prediction."
   ]
  },
  {
   "cell_type": "code",
   "execution_count": null,
   "id": "6185cbd6",
   "metadata": {},
   "outputs": [],
   "source": [
    "# Pick a top feature from the summary plot, e.g., 'transaction_count'\n",
    "shap.dependence_plot('transaction_count', shap_values[1], X_sample)"
   ]
  },
  {
   "cell_type": "markdown",
   "id": "0324fa17",
   "metadata": {},
   "source": [
    "### SHAP Waterfall Plot\n",
    "\n",
    "Gives a detailed breakdown for a single prediction."
   ]
  },
  {
   "cell_type": "code",
   "execution_count": null,
   "id": "20f3f4e9",
   "metadata": {},
   "outputs": [],
   "source": [
    "shap.plots._waterfall.waterfall_legacy(explainer.expected_value[1], shap_values[1][0], X_sample.iloc[0])"
   ]
  },
  {
   "cell_type": "markdown",
   "id": "fbd13d79",
   "metadata": {},
   "source": [
    "## 5. Interpretation of SHAP Results\n",
    "\n",
    "- **Summary Plot:** The top features (e.g., `transaction_count`, `purchase_value`, `time_since_signup`) are the most important for predicting fraud. Their SHAP values show both their importance and whether high or low values increase fraud risk.\n",
    "- **Force Plot:** For a single transaction, the force plot shows how each feature pushes the prediction toward fraud or not fraud.\n",
    "- **Dependence Plot:** Shows the relationship between a feature and its SHAP value, revealing non-linear effects.\n",
    "- **Waterfall Plot:** Gives a detailed breakdown of how each feature contributed to a specific prediction.\n",
    "\n",
    "**Key Insights:**  \n",
    "- Features with the largest SHAP values are the main drivers of fraud risk.\n",
    "- These insights help business stakeholders understand and trust the model, and can guide further investigation or feature engineering.\n",
    "\n",
    "**Conclusion:**  \n",
    "SHAP analysis reveals the main drivers of fraud in the data and provides both global and local interpretability for the model's decisions."
   ]
  }
 ],
 "metadata": {
  "language_info": {
   "name": "python"
  }
 },
 "nbformat": 4,
 "nbformat_minor": 5
}
